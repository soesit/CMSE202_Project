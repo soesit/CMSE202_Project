{
 "cells": [
  {
   "cell_type": "markdown",
   "id": "a6fedab4",
   "metadata": {},
   "source": [
    "# CMSE 201 First Project Checkpoint"
   ]
  },
  {
   "cell_type": "markdown",
   "id": "876b11e6",
   "metadata": {},
   "source": [
    "### &#9989; Aaron Ko, Sit Soe, Sean O'Dwyer, Abdulla Alblooshi\n",
    "### &#9989; Section_001"
   ]
  },
  {
   "cell_type": "markdown",
   "id": "d1366351",
   "metadata": {},
   "source": [
    "## Background and Motivation"
   ]
  },
  {
   "cell_type": "markdown",
   "id": "d168ab74",
   "metadata": {},
   "source": [
    "PLACEHOLDER"
   ]
  },
  {
   "cell_type": "markdown",
   "id": "11686e88",
   "metadata": {},
   "source": [
    "## Methodology"
   ]
  },
  {
   "cell_type": "markdown",
   "id": "e59ed628",
   "metadata": {},
   "source": [
    "We will analyze our data using pandas, numpy, and python functions."
   ]
  },
  {
   "cell_type": "markdown",
   "id": "1d69acce",
   "metadata": {},
   "source": [
    "### First, lets import everything we'll need:"
   ]
  },
  {
   "cell_type": "code",
   "execution_count": 4,
   "id": "b4a41cf5",
   "metadata": {},
   "outputs": [],
   "source": [
    "import numpy as np\n",
    "import pandas as pd\n",
    "import matplotlib.pyplot as plt\n",
    "%matplotlib inline\n",
    "from sklearn.model_selection import train_test_split\n",
    "import statsmodels.api as sm"
   ]
  },
  {
   "cell_type": "markdown",
   "id": "a340e455",
   "metadata": {},
   "source": [
    "### Now that we have all our packages, lets start reading in our dataset that we'll need to answer our question"
   ]
  },
  {
   "cell_type": "markdown",
   "id": "9b38db7f",
   "metadata": {},
   "source": [
    "#### CSV file that will be used:\n",
    "`FirstYearGPA.csv` contains data about first year college student's GPA as well as their high school GPA, SAT scores, among other things."
   ]
  },
  {
   "cell_type": "markdown",
   "id": "a1b1aaf0",
   "metadata": {},
   "source": [
    "### Cleaning up the dataset:"
   ]
  },
  {
   "cell_type": "code",
   "execution_count": 28,
   "id": "2f7a6f42",
   "metadata": {},
   "outputs": [
    {
     "data": {
      "text/html": [
       "<div>\n",
       "<style scoped>\n",
       "    .dataframe tbody tr th:only-of-type {\n",
       "        vertical-align: middle;\n",
       "    }\n",
       "\n",
       "    .dataframe tbody tr th {\n",
       "        vertical-align: top;\n",
       "    }\n",
       "\n",
       "    .dataframe thead th {\n",
       "        text-align: right;\n",
       "    }\n",
       "</style>\n",
       "<table border=\"1\" class=\"dataframe\">\n",
       "  <thead>\n",
       "    <tr style=\"text-align: right;\">\n",
       "      <th></th>\n",
       "      <th>GPA</th>\n",
       "      <th>HSGPA</th>\n",
       "      <th>SATV</th>\n",
       "      <th>SATM</th>\n",
       "      <th>Male</th>\n",
       "      <th>HU</th>\n",
       "      <th>SS</th>\n",
       "      <th>FirstGen</th>\n",
       "      <th>White</th>\n",
       "      <th>CollegeBound</th>\n",
       "    </tr>\n",
       "  </thead>\n",
       "  <tbody>\n",
       "    <tr>\n",
       "      <th>0</th>\n",
       "      <td>3.06</td>\n",
       "      <td>3.83</td>\n",
       "      <td>680</td>\n",
       "      <td>770</td>\n",
       "      <td>1</td>\n",
       "      <td>3.0</td>\n",
       "      <td>9.0</td>\n",
       "      <td>1</td>\n",
       "      <td>1</td>\n",
       "      <td>1</td>\n",
       "    </tr>\n",
       "    <tr>\n",
       "      <th>1</th>\n",
       "      <td>4.15</td>\n",
       "      <td>4.00</td>\n",
       "      <td>740</td>\n",
       "      <td>720</td>\n",
       "      <td>0</td>\n",
       "      <td>9.0</td>\n",
       "      <td>3.0</td>\n",
       "      <td>0</td>\n",
       "      <td>1</td>\n",
       "      <td>1</td>\n",
       "    </tr>\n",
       "    <tr>\n",
       "      <th>2</th>\n",
       "      <td>3.41</td>\n",
       "      <td>3.70</td>\n",
       "      <td>640</td>\n",
       "      <td>570</td>\n",
       "      <td>0</td>\n",
       "      <td>16.0</td>\n",
       "      <td>13.0</td>\n",
       "      <td>0</td>\n",
       "      <td>0</td>\n",
       "      <td>1</td>\n",
       "    </tr>\n",
       "    <tr>\n",
       "      <th>3</th>\n",
       "      <td>3.21</td>\n",
       "      <td>3.51</td>\n",
       "      <td>740</td>\n",
       "      <td>700</td>\n",
       "      <td>0</td>\n",
       "      <td>22.0</td>\n",
       "      <td>0.0</td>\n",
       "      <td>0</td>\n",
       "      <td>1</td>\n",
       "      <td>1</td>\n",
       "    </tr>\n",
       "    <tr>\n",
       "      <th>4</th>\n",
       "      <td>3.48</td>\n",
       "      <td>3.83</td>\n",
       "      <td>610</td>\n",
       "      <td>610</td>\n",
       "      <td>0</td>\n",
       "      <td>30.5</td>\n",
       "      <td>1.5</td>\n",
       "      <td>0</td>\n",
       "      <td>1</td>\n",
       "      <td>1</td>\n",
       "    </tr>\n",
       "    <tr>\n",
       "      <th>...</th>\n",
       "      <td>...</td>\n",
       "      <td>...</td>\n",
       "      <td>...</td>\n",
       "      <td>...</td>\n",
       "      <td>...</td>\n",
       "      <td>...</td>\n",
       "      <td>...</td>\n",
       "      <td>...</td>\n",
       "      <td>...</td>\n",
       "      <td>...</td>\n",
       "    </tr>\n",
       "    <tr>\n",
       "      <th>214</th>\n",
       "      <td>3.13</td>\n",
       "      <td>3.41</td>\n",
       "      <td>700</td>\n",
       "      <td>690</td>\n",
       "      <td>1</td>\n",
       "      <td>10.0</td>\n",
       "      <td>19.0</td>\n",
       "      <td>0</td>\n",
       "      <td>1</td>\n",
       "      <td>1</td>\n",
       "    </tr>\n",
       "    <tr>\n",
       "      <th>215</th>\n",
       "      <td>2.88</td>\n",
       "      <td>3.58</td>\n",
       "      <td>680</td>\n",
       "      <td>740</td>\n",
       "      <td>0</td>\n",
       "      <td>20.0</td>\n",
       "      <td>3.0</td>\n",
       "      <td>0</td>\n",
       "      <td>0</td>\n",
       "      <td>1</td>\n",
       "    </tr>\n",
       "    <tr>\n",
       "      <th>216</th>\n",
       "      <td>2.65</td>\n",
       "      <td>3.15</td>\n",
       "      <td>590</td>\n",
       "      <td>750</td>\n",
       "      <td>1</td>\n",
       "      <td>8.5</td>\n",
       "      <td>8.5</td>\n",
       "      <td>0</td>\n",
       "      <td>1</td>\n",
       "      <td>1</td>\n",
       "    </tr>\n",
       "    <tr>\n",
       "      <th>217</th>\n",
       "      <td>2.97</td>\n",
       "      <td>3.09</td>\n",
       "      <td>670</td>\n",
       "      <td>630</td>\n",
       "      <td>0</td>\n",
       "      <td>12.0</td>\n",
       "      <td>4.0</td>\n",
       "      <td>0</td>\n",
       "      <td>1</td>\n",
       "      <td>1</td>\n",
       "    </tr>\n",
       "    <tr>\n",
       "      <th>218</th>\n",
       "      <td>2.62</td>\n",
       "      <td>2.91</td>\n",
       "      <td>610</td>\n",
       "      <td>710</td>\n",
       "      <td>1</td>\n",
       "      <td>7.0</td>\n",
       "      <td>3.0</td>\n",
       "      <td>0</td>\n",
       "      <td>1</td>\n",
       "      <td>1</td>\n",
       "    </tr>\n",
       "  </tbody>\n",
       "</table>\n",
       "<p>219 rows × 10 columns</p>\n",
       "</div>"
      ],
      "text/plain": [
       "      GPA  HSGPA  SATV  SATM  Male    HU    SS  FirstGen  White  CollegeBound\n",
       "0    3.06   3.83   680   770     1   3.0   9.0         1      1             1\n",
       "1    4.15   4.00   740   720     0   9.0   3.0         0      1             1\n",
       "2    3.41   3.70   640   570     0  16.0  13.0         0      0             1\n",
       "3    3.21   3.51   740   700     0  22.0   0.0         0      1             1\n",
       "4    3.48   3.83   610   610     0  30.5   1.5         0      1             1\n",
       "..    ...    ...   ...   ...   ...   ...   ...       ...    ...           ...\n",
       "214  3.13   3.41   700   690     1  10.0  19.0         0      1             1\n",
       "215  2.88   3.58   680   740     0  20.0   3.0         0      0             1\n",
       "216  2.65   3.15   590   750     1   8.5   8.5         0      1             1\n",
       "217  2.97   3.09   670   630     0  12.0   4.0         0      1             1\n",
       "218  2.62   2.91   610   710     1   7.0   3.0         0      1             1\n",
       "\n",
       "[219 rows x 10 columns]"
      ]
     },
     "execution_count": 28,
     "metadata": {},
     "output_type": "execute_result"
    }
   ],
   "source": [
    "data = pd.read_csv(\"FirstYearGPA.csv\")\n",
    "# Remove unamed column\n",
    "data = data.drop(columns = ['Unnamed: 0'])\n",
    "\n",
    "data"
   ]
  },
  {
   "cell_type": "markdown",
   "id": "14e17784",
   "metadata": {},
   "source": [
    "### Combine the SATV and SATM data in to one column that represents the total SAT score"
   ]
  },
  {
   "cell_type": "code",
   "execution_count": 14,
   "id": "34ebf97b",
   "metadata": {},
   "outputs": [],
   "source": [
    "# If model is accurate/inaccurate reseperate SAT columns\n",
    "\n",
    "# combine the two columns\n",
    "# data[\"SATV\"] = data[\"SATV\"]+data[\"SATM\"]\n",
    "# # drop the SATM column\n",
    "# data = data.drop(\"SATM\", axis = 1)\n",
    "# # rename the SATV (combined score) column to SAT Score\n",
    "# data.rename(columns = {\"SATV\":\"SAT Score\"}, inplace = True)\n"
   ]
  },
  {
   "cell_type": "markdown",
   "id": "e4617811",
   "metadata": {},
   "source": [
    "### Drop NA and unnecessary columns in the data:"
   ]
  },
  {
   "cell_type": "code",
   "execution_count": 29,
   "id": "df979a54",
   "metadata": {},
   "outputs": [
    {
     "data": {
      "text/html": [
       "<div>\n",
       "<style scoped>\n",
       "    .dataframe tbody tr th:only-of-type {\n",
       "        vertical-align: middle;\n",
       "    }\n",
       "\n",
       "    .dataframe tbody tr th {\n",
       "        vertical-align: top;\n",
       "    }\n",
       "\n",
       "    .dataframe thead th {\n",
       "        text-align: right;\n",
       "    }\n",
       "</style>\n",
       "<table border=\"1\" class=\"dataframe\">\n",
       "  <thead>\n",
       "    <tr style=\"text-align: right;\">\n",
       "      <th></th>\n",
       "      <th>GPA</th>\n",
       "      <th>HSGPA</th>\n",
       "      <th>SATV</th>\n",
       "      <th>SATM</th>\n",
       "      <th>Male</th>\n",
       "      <th>HU</th>\n",
       "      <th>SS</th>\n",
       "      <th>FirstGen</th>\n",
       "      <th>White</th>\n",
       "      <th>CollegeBound</th>\n",
       "    </tr>\n",
       "  </thead>\n",
       "  <tbody>\n",
       "    <tr>\n",
       "      <th>0</th>\n",
       "      <td>3.06</td>\n",
       "      <td>3.83</td>\n",
       "      <td>680</td>\n",
       "      <td>770</td>\n",
       "      <td>1</td>\n",
       "      <td>3.0</td>\n",
       "      <td>9.0</td>\n",
       "      <td>1</td>\n",
       "      <td>1</td>\n",
       "      <td>1</td>\n",
       "    </tr>\n",
       "    <tr>\n",
       "      <th>1</th>\n",
       "      <td>4.15</td>\n",
       "      <td>4.00</td>\n",
       "      <td>740</td>\n",
       "      <td>720</td>\n",
       "      <td>0</td>\n",
       "      <td>9.0</td>\n",
       "      <td>3.0</td>\n",
       "      <td>0</td>\n",
       "      <td>1</td>\n",
       "      <td>1</td>\n",
       "    </tr>\n",
       "    <tr>\n",
       "      <th>2</th>\n",
       "      <td>3.41</td>\n",
       "      <td>3.70</td>\n",
       "      <td>640</td>\n",
       "      <td>570</td>\n",
       "      <td>0</td>\n",
       "      <td>16.0</td>\n",
       "      <td>13.0</td>\n",
       "      <td>0</td>\n",
       "      <td>0</td>\n",
       "      <td>1</td>\n",
       "    </tr>\n",
       "    <tr>\n",
       "      <th>3</th>\n",
       "      <td>3.21</td>\n",
       "      <td>3.51</td>\n",
       "      <td>740</td>\n",
       "      <td>700</td>\n",
       "      <td>0</td>\n",
       "      <td>22.0</td>\n",
       "      <td>0.0</td>\n",
       "      <td>0</td>\n",
       "      <td>1</td>\n",
       "      <td>1</td>\n",
       "    </tr>\n",
       "    <tr>\n",
       "      <th>4</th>\n",
       "      <td>3.48</td>\n",
       "      <td>3.83</td>\n",
       "      <td>610</td>\n",
       "      <td>610</td>\n",
       "      <td>0</td>\n",
       "      <td>30.5</td>\n",
       "      <td>1.5</td>\n",
       "      <td>0</td>\n",
       "      <td>1</td>\n",
       "      <td>1</td>\n",
       "    </tr>\n",
       "  </tbody>\n",
       "</table>\n",
       "</div>"
      ],
      "text/plain": [
       "    GPA  HSGPA  SATV  SATM  Male    HU    SS  FirstGen  White  CollegeBound\n",
       "0  3.06   3.83   680   770     1   3.0   9.0         1      1             1\n",
       "1  4.15   4.00   740   720     0   9.0   3.0         0      1             1\n",
       "2  3.41   3.70   640   570     0  16.0  13.0         0      0             1\n",
       "3  3.21   3.51   740   700     0  22.0   0.0         0      1             1\n",
       "4  3.48   3.83   610   610     0  30.5   1.5         0      1             1"
      ]
     },
     "execution_count": 29,
     "metadata": {},
     "output_type": "execute_result"
    }
   ],
   "source": [
    "data = data.dropna()\n",
    "data.head()"
   ]
  },
  {
   "cell_type": "code",
   "execution_count": 16,
   "id": "0cbea98b",
   "metadata": {},
   "outputs": [],
   "source": [
    "# Logistic regression would not work if information is classified into multiple gorups\n",
    "# https://machinelearningmastery.com/multinomial-logistic-regression-with-python/\n",
    "# Can advance towards SVM after multinomial"
   ]
  },
  {
   "cell_type": "code",
   "execution_count": 17,
   "id": "16bffa5d",
   "metadata": {},
   "outputs": [],
   "source": [
    "# Can use linear regression model to predict our GPA based on HSGPA and SAT, \n",
    "# find the variance between true GPA and predicted GPA to determine accuracy of model\n",
    "# How does different features affect the model"
   ]
  },
  {
   "cell_type": "code",
   "execution_count": 43,
   "id": "5ae6afd4",
   "metadata": {},
   "outputs": [
    {
     "name": "stdout",
     "output_type": "stream",
     "text": [
      "                            OLS Regression Results                            \n",
      "==============================================================================\n",
      "Dep. Variable:                    GPA   R-squared:                       0.350\n",
      "Model:                            OLS   Adj. R-squared:                  0.322\n",
      "Method:                 Least Squares   F-statistic:                     12.48\n",
      "Date:                Tue, 29 Nov 2022   Prob (F-statistic):           8.67e-16\n",
      "Time:                        14:36:09   Log-Likelihood:                -95.669\n",
      "No. Observations:                 219   AIC:                             211.3\n",
      "Df Residuals:                     209   BIC:                             245.2\n",
      "Df Model:                           9                                         \n",
      "Covariance Type:            nonrobust                                         \n",
      "================================================================================\n",
      "                   coef    std err          t      P>|t|      [0.025      0.975]\n",
      "--------------------------------------------------------------------------------\n",
      "const            0.5269      0.349      1.511      0.132      -0.161       1.214\n",
      "HSGPA            0.4933      0.075      6.616      0.000       0.346       0.640\n",
      "SATV             0.0006      0.000      1.501      0.135      -0.000       0.001\n",
      "SATM           8.47e-05      0.000      0.190      0.849      -0.001       0.001\n",
      "Male             0.0482      0.057      0.846      0.398      -0.064       0.161\n",
      "HU               0.0162      0.004      4.075      0.000       0.008       0.024\n",
      "SS               0.0073      0.006      1.319      0.189      -0.004       0.018\n",
      "FirstGen        -0.0743      0.089     -0.838      0.403      -0.249       0.101\n",
      "White            0.1962      0.070      2.803      0.006       0.058       0.334\n",
      "CollegeBound     0.0215      0.100      0.214      0.831      -0.176       0.219\n",
      "==============================================================================\n",
      "Omnibus:                        4.510   Durbin-Watson:                   2.083\n",
      "Prob(Omnibus):                  0.105   Jarque-Bera (JB):                3.530\n",
      "Skew:                          -0.194   Prob(JB):                        0.171\n",
      "Kurtosis:                       2.515   Cond. No.                     1.21e+04\n",
      "==============================================================================\n",
      "\n",
      "Notes:\n",
      "[1] Standard Errors assume that the covariance matrix of the errors is correctly specified.\n",
      "[2] The condition number is large, 1.21e+04. This might indicate that there are\n",
      "strong multicollinearity or other numerical problems.\n"
     ]
    }
   ],
   "source": [
    "attr_names = [ \"HSGPA\", \"SATV\", 'SATM', \"Male\" , \"HU\", \"SS\", \"FirstGen\", \"White\", \"CollegeBound\"]\n",
    "\n",
    "x_train = data[attr_names]\n",
    "y_train = data['GPA']\n",
    "\n",
    "\n",
    "model_log = sm.OLS(y_train, sm.add_constant(x_train))\n",
    "results = model_log.fit()\n",
    "print(results.summary())"
   ]
  },
  {
   "cell_type": "code",
   "execution_count": 50,
   "id": "3706f47f",
   "metadata": {},
   "outputs": [
    {
     "name": "stdout",
     "output_type": "stream",
     "text": [
      "                   GPA     HSGPA      SATV      SATM      Male        HU  \\\n",
      "GPA           1.000000  0.446887  0.304311  0.194344  0.052849  0.314656   \n",
      "HSGPA         0.446887  1.000000  0.210321  0.152840 -0.090317  0.116031   \n",
      "SATV          0.304311  0.210321  1.000000  0.526944  0.145557  0.098749   \n",
      "SATM          0.194344  0.152840  0.526944  1.000000  0.370992 -0.009602   \n",
      "Male          0.052849 -0.090317  0.145557  0.370992  1.000000 -0.018844   \n",
      "HU            0.314656  0.116031  0.098749 -0.009602 -0.018844  1.000000   \n",
      "SS           -0.003569 -0.017254 -0.026470 -0.087840  0.035076 -0.306608   \n",
      "FirstGen     -0.156577  0.064186 -0.256577 -0.177387 -0.076105 -0.212566   \n",
      "White         0.281772  0.046047  0.368234  0.259465  0.076960  0.125934   \n",
      "CollegeBound -0.063025 -0.200039  0.064845  0.039322  0.099818 -0.029972   \n",
      "\n",
      "                    SS  FirstGen     White  CollegeBound  \n",
      "GPA          -0.003569 -0.156577  0.281772     -0.063025  \n",
      "HSGPA        -0.017254  0.064186  0.046047     -0.200039  \n",
      "SATV         -0.026470 -0.256577  0.368234      0.064845  \n",
      "SATM         -0.087840 -0.177387  0.259465      0.039322  \n",
      "Male          0.035076 -0.076105  0.076960      0.099818  \n",
      "HU           -0.306608 -0.212566  0.125934     -0.029972  \n",
      "SS            1.000000 -0.023663  0.016734     -0.031706  \n",
      "FirstGen     -0.023663  1.000000 -0.237904     -0.110511  \n",
      "White         0.016734 -0.237904  1.000000     -0.023912  \n",
      "CollegeBound -0.031706 -0.110511 -0.023912      1.000000  \n"
     ]
    },
    {
     "data": {
      "text/plain": [
       "<AxesSubplot:>"
      ]
     },
     "execution_count": 50,
     "metadata": {},
     "output_type": "execute_result"
    },
    {
     "data": {
      "image/png": "[encoded data removed]",
      "text/plain": [
       "<Figure size 1080x720 with 2 Axes>"
      ]
     },
     "metadata": {
      "needs_background": "light"
     },
     "output_type": "display_data"
    }
   ],
   "source": [
    "import os\n",
    "import seaborn as sn\n",
    " \n",
    "\n",
    "numeric_col = [\"GPA\", \"HSGPA\", \"SATV\", 'SATM', \"Male\" , \"HU\", \"SS\", \"FirstGen\", \"White\", \"CollegeBound\"]\n",
    " \n",
    "# Correlation Matrix formation \n",
    "corr_matrix = data.loc[:,numeric_col].corr()\n",
    "print(corr_matrix)\n",
    " \n",
    "#Using heatmap to visualize the correlation matrix\n",
    "fig, ax = plt.subplots(figsize=(15, 10))\n",
    "sn.heatmap(corr_matrix, annot=True)"
   ]
  },
  {
   "cell_type": "code",
   "execution_count": 52,
   "id": "1926e766",
   "metadata": {},
   "outputs": [
    {
     "name": "stdout",
     "output_type": "stream",
     "text": [
      "                            OLS Regression Results                            \n",
      "==============================================================================\n",
      "Dep. Variable:                    GPA   R-squared:                       0.341\n",
      "Model:                            OLS   Adj. R-squared:                  0.325\n",
      "Method:                 Least Squares   F-statistic:                     22.02\n",
      "Date:                Tue, 29 Nov 2022   Prob (F-statistic):           9.13e-18\n",
      "Time:                        14:44:20   Log-Likelihood:                -97.146\n",
      "No. Observations:                 219   AIC:                             206.3\n",
      "Df Residuals:                     213   BIC:                             226.6\n",
      "Df Model:                           5                                         \n",
      "Covariance Type:            nonrobust                                         \n",
      "==============================================================================\n",
      "                 coef    std err          t      P>|t|      [0.025      0.975]\n",
      "------------------------------------------------------------------------------\n",
      "const          0.6774      0.281      2.411      0.017       0.124       1.231\n",
      "HSGPA          0.4868      0.072      6.778      0.000       0.345       0.628\n",
      "SATV           0.0007      0.000      1.899      0.059   -2.52e-05       0.001\n",
      "HU             0.0143      0.004      3.854      0.000       0.007       0.022\n",
      "FirstGen      -0.0904      0.088     -1.033      0.303      -0.263       0.082\n",
      "White          0.2021      0.069      2.918      0.004       0.066       0.339\n",
      "==============================================================================\n",
      "Omnibus:                        4.619   Durbin-Watson:                   2.086\n",
      "Prob(Omnibus):                  0.099   Jarque-Bera (JB):                3.356\n",
      "Skew:                          -0.162   Prob(JB):                        0.187\n",
      "Kurtosis:                       2.487   Cond. No.                     6.75e+03\n",
      "==============================================================================\n",
      "\n",
      "Notes:\n",
      "[1] Standard Errors assume that the covariance matrix of the errors is correctly specified.\n",
      "[2] The condition number is large, 6.75e+03. This might indicate that there are\n",
      "strong multicollinearity or other numerical problems.\n"
     ]
    }
   ],
   "source": [
    "# Remove and experiment based on either heatmap or P-Values but not both\n",
    "\n",
    "attr_names1 = [ \"HSGPA\", \"SATV\", \"HU\", \"FirstGen\", \"White\"]\n",
    "\n",
    "x_train1 = data[attr_names1]\n",
    "y_train1 = data['GPA']\n",
    "\n",
    "\n",
    "model_log1 = sm.OLS(y_train1, sm.add_constant(x_train1))\n",
    "results1 = model_log1.fit()\n",
    "print(results1.summary())"
   ]
  },
  {
   "cell_type": "code",
   "execution_count": null,
   "id": "ee35a7e5",
   "metadata": {},
   "outputs": [],
   "source": [
    "# Visualize data\n",
    "# Linear Regression Model\n",
    "# Individual Regression model for every column. Analyze P-Values, R-Values\n",
    "# Might not be enough, will start multinomial logisitic regression \n",
    "# Divide into quarters. If your grade is in the lower quarter, you go to the lower grade: Higher quarter goes to higher grade"
   ]
  },
  {
   "cell_type": "markdown",
   "id": "2ae4940c",
   "metadata": {},
   "source": [
    "## Results"
   ]
  },
  {
   "cell_type": "markdown",
   "id": "395e236f",
   "metadata": {},
   "source": [
    "PLACEHOLDER"
   ]
  },
  {
   "cell_type": "markdown",
   "id": "a0456eb1",
   "metadata": {},
   "source": [
    "## Conclusion"
   ]
  },
  {
   "cell_type": "markdown",
   "id": "dbff4f20",
   "metadata": {},
   "source": [
    "PLACEHOLDER"
   ]
  },
  {
   "cell_type": "markdown",
   "id": "6842adc3",
   "metadata": {},
   "source": [
    "## Refrences"
   ]
  },
  {
   "cell_type": "markdown",
   "id": "4e44fe89",
   "metadata": {},
   "source": [
    "PLACEHOLDER"
   ]
  }
 ],
 "metadata": {
  "kernelspec": {
   "display_name": "Python 3",
   "language": "python",
   "name": "python3"
  },
  "language_info": {
   "codemirror_mode": {
    "name": "ipython",
    "version": 3
   },
   "file_extension": ".py",
   "mimetype": "text/x-python",
   "name": "python",
   "nbconvert_exporter": "python",
   "pygments_lexer": "ipython3",
   "version": "3.8.8"
  }
 },
 "nbformat": 4,
 "nbformat_minor": 5
}
