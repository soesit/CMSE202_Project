{
 "cells": [
  {
   "cell_type": "markdown",
   "id": "7a8abe43",
   "metadata": {},
   "source": [
    "# CMSE 201 First Project Checkpoint"
   ]
  },
  {
   "cell_type": "markdown",
   "id": "316bb36a",
   "metadata": {},
   "source": [
    "### &#9989; Aaron Ko, Sit Soe, Sean O'Dwyer, Abdulla Alblooshi\n",
    "### &#9989; Section_001"
   ]
  },
  {
   "cell_type": "markdown",
   "id": "1d68e6ca",
   "metadata": {},
   "source": [
    "## Background and Motivation"
   ]
  },
  {
   "cell_type": "markdown",
   "id": "b740b5c2",
   "metadata": {},
   "source": [
    "PLACEHOLDER"
   ]
  },
  {
   "cell_type": "markdown",
   "id": "c3c3bea2",
   "metadata": {},
   "source": [
    "## Methodology"
   ]
  },
  {
   "cell_type": "markdown",
   "id": "b120f6ca",
   "metadata": {},
   "source": [
    "### First, lets import everything we'll need:"
   ]
  },
  {
   "cell_type": "code",
   "execution_count": 1,
   "id": "ee04364e",
   "metadata": {},
   "outputs": [],
   "source": [
    "import numpy as np\n",
    "import pandas as pd\n",
    "import matplotlib.pyplot as plt\n",
    "%matplotlib inline\n",
    "from sklearn.model_selection import train_test_split"
   ]
  },
  {
   "cell_type": "markdown",
   "id": "05aaefd6",
   "metadata": {},
   "source": [
    "### Cleaning up the dataset:"
   ]
  },
  {
   "cell_type": "markdown",
   "id": "27465747",
   "metadata": {},
   "source": []
  }
 ],
 "metadata": {
  "kernelspec": {
   "display_name": "Python 3",
   "language": "python",
   "name": "python3"
  },
  "language_info": {
   "codemirror_mode": {
    "name": "ipython",
    "version": 3
   },
   "file_extension": ".py",
   "mimetype": "text/x-python",
   "name": "python",
   "nbconvert_exporter": "python",
   "pygments_lexer": "ipython3",
   "version": "3.8.8"
  }
 },
 "nbformat": 4,
 "nbformat_minor": 5
}
