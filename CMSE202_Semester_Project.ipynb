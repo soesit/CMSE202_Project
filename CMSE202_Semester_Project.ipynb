{
 "cells": [
  {
   "cell_type": "markdown",
   "id": "a6fedab4",
   "metadata": {},
   "source": [
    "# CMSE 201 First Project Checkpoint"
   ]
  },
  {
   "cell_type": "markdown",
   "id": "876b11e6",
   "metadata": {},
   "source": [
    "### &#9989; Aaron Ko, Sit Soe, Sean O'Dwyer, Abdulla Alblooshi\n",
    "### &#9989; Section_001"
   ]
  },
  {
   "cell_type": "markdown",
   "id": "d1366351",
   "metadata": {},
   "source": [
    "## Background and Motivation"
   ]
  },
  {
   "cell_type": "markdown",
   "id": "d168ab74",
   "metadata": {},
   "source": [
    "PLACEHOLDER"
   ]
  },
  {
   "cell_type": "markdown",
   "id": "11686e88",
   "metadata": {},
   "source": [
    "## Methodology"
   ]
  },
  {
   "cell_type": "markdown",
   "id": "e59ed628",
   "metadata": {},
   "source": [
    "We will analyze our data using pandas, numpy, and python functions."
   ]
  },
  {
   "cell_type": "markdown",
   "id": "1d69acce",
   "metadata": {},
   "source": [
    "### First, lets import everything we'll need:"
   ]
  },
  {
   "cell_type": "code",
   "execution_count": 36,
   "id": "b4a41cf5",
   "metadata": {},
   "outputs": [],
   "source": [
    "import numpy as np\n",
    "import pandas as pd\n",
    "import matplotlib.pyplot as plt\n",
    "%matplotlib inline\n",
    "from sklearn.model_selection import train_test_split\n",
    "import statsmodels.api as sm"
   ]
  },
  {
   "cell_type": "markdown",
   "id": "a340e455",
   "metadata": {},
   "source": [
    "### Now that we have all our packages, lets start reading in our dataset that we'll need to answer our question"
   ]
  },
  {
   "cell_type": "markdown",
   "id": "9b38db7f",
   "metadata": {},
   "source": [
    "#### CSV file that will be used:\n",
    "`FirstYearGPA.csv` contains data about first year college student's GPA as well as their high school GPA, SAT scores, among other things."
   ]
  },
  {
   "cell_type": "markdown",
   "id": "a1b1aaf0",
   "metadata": {},
   "source": [
    "### Cleaning up the dataset:"
   ]
  },
  {
   "cell_type": "code",
   "execution_count": 37,
   "id": "2f7a6f42",
   "metadata": {},
   "outputs": [
    {
     "data": {
      "text/html": [
       "<div>\n",
       "<style scoped>\n",
       "    .dataframe tbody tr th:only-of-type {\n",
       "        vertical-align: middle;\n",
       "    }\n",
       "\n",
       "    .dataframe tbody tr th {\n",
       "        vertical-align: top;\n",
       "    }\n",
       "\n",
       "    .dataframe thead th {\n",
       "        text-align: right;\n",
       "    }\n",
       "</style>\n",
       "<table border=\"1\" class=\"dataframe\">\n",
       "  <thead>\n",
       "    <tr style=\"text-align: right;\">\n",
       "      <th></th>\n",
       "      <th>Unnamed: 0</th>\n",
       "      <th>GPA</th>\n",
       "      <th>HSGPA</th>\n",
       "      <th>SATV</th>\n",
       "      <th>SATM</th>\n",
       "      <th>Male</th>\n",
       "      <th>HU</th>\n",
       "      <th>SS</th>\n",
       "      <th>FirstGen</th>\n",
       "      <th>White</th>\n",
       "      <th>CollegeBound</th>\n",
       "    </tr>\n",
       "  </thead>\n",
       "  <tbody>\n",
       "    <tr>\n",
       "      <th>0</th>\n",
       "      <td>1</td>\n",
       "      <td>3.06</td>\n",
       "      <td>3.83</td>\n",
       "      <td>680</td>\n",
       "      <td>770</td>\n",
       "      <td>1</td>\n",
       "      <td>3.0</td>\n",
       "      <td>9.0</td>\n",
       "      <td>1</td>\n",
       "      <td>1</td>\n",
       "      <td>1</td>\n",
       "    </tr>\n",
       "    <tr>\n",
       "      <th>1</th>\n",
       "      <td>2</td>\n",
       "      <td>4.15</td>\n",
       "      <td>4.00</td>\n",
       "      <td>740</td>\n",
       "      <td>720</td>\n",
       "      <td>0</td>\n",
       "      <td>9.0</td>\n",
       "      <td>3.0</td>\n",
       "      <td>0</td>\n",
       "      <td>1</td>\n",
       "      <td>1</td>\n",
       "    </tr>\n",
       "    <tr>\n",
       "      <th>2</th>\n",
       "      <td>3</td>\n",
       "      <td>3.41</td>\n",
       "      <td>3.70</td>\n",
       "      <td>640</td>\n",
       "      <td>570</td>\n",
       "      <td>0</td>\n",
       "      <td>16.0</td>\n",
       "      <td>13.0</td>\n",
       "      <td>0</td>\n",
       "      <td>0</td>\n",
       "      <td>1</td>\n",
       "    </tr>\n",
       "    <tr>\n",
       "      <th>3</th>\n",
       "      <td>4</td>\n",
       "      <td>3.21</td>\n",
       "      <td>3.51</td>\n",
       "      <td>740</td>\n",
       "      <td>700</td>\n",
       "      <td>0</td>\n",
       "      <td>22.0</td>\n",
       "      <td>0.0</td>\n",
       "      <td>0</td>\n",
       "      <td>1</td>\n",
       "      <td>1</td>\n",
       "    </tr>\n",
       "    <tr>\n",
       "      <th>4</th>\n",
       "      <td>5</td>\n",
       "      <td>3.48</td>\n",
       "      <td>3.83</td>\n",
       "      <td>610</td>\n",
       "      <td>610</td>\n",
       "      <td>0</td>\n",
       "      <td>30.5</td>\n",
       "      <td>1.5</td>\n",
       "      <td>0</td>\n",
       "      <td>1</td>\n",
       "      <td>1</td>\n",
       "    </tr>\n",
       "  </tbody>\n",
       "</table>\n",
       "</div>"
      ],
      "text/plain": [
       "   Unnamed: 0   GPA  HSGPA  SATV  SATM  Male    HU    SS  FirstGen  White  \\\n",
       "0           1  3.06   3.83   680   770     1   3.0   9.0         1      1   \n",
       "1           2  4.15   4.00   740   720     0   9.0   3.0         0      1   \n",
       "2           3  3.41   3.70   640   570     0  16.0  13.0         0      0   \n",
       "3           4  3.21   3.51   740   700     0  22.0   0.0         0      1   \n",
       "4           5  3.48   3.83   610   610     0  30.5   1.5         0      1   \n",
       "\n",
       "   CollegeBound  \n",
       "0             1  \n",
       "1             1  \n",
       "2             1  \n",
       "3             1  \n",
       "4             1  "
      ]
     },
     "execution_count": 37,
     "metadata": {},
     "output_type": "execute_result"
    }
   ],
   "source": [
    "data = pd.read_csv(\"FirstYearGPA.csv\")\n",
    "data.head()"
   ]
  },
  {
   "cell_type": "markdown",
   "id": "14e17784",
   "metadata": {},
   "source": [
    "### Combine the SATV and SATM data in to one column that represents the total SAT score"
   ]
  },
  {
   "cell_type": "code",
   "execution_count": 38,
   "id": "34ebf97b",
   "metadata": {},
   "outputs": [],
   "source": [
    "# combine the two columns\n",
    "data[\"SATV\"] = data[\"SATV\"]+data[\"SATM\"]\n",
    "# drop the SATM column\n",
    "data = data.drop(\"SATM\", axis = 1)\n",
    "# rename the SATV (combined score) column to SAT Score\n",
    "data.rename(columns = {\"SATV\":\"SAT Score\"}, inplace = True)"
   ]
  },
  {
   "cell_type": "markdown",
   "id": "e4617811",
   "metadata": {},
   "source": [
    "### Drop NA and unnecessary columns in the data:"
   ]
  },
  {
   "cell_type": "code",
   "execution_count": 39,
   "id": "df979a54",
   "metadata": {},
   "outputs": [
    {
     "data": {
      "text/html": [
       "<div>\n",
       "<style scoped>\n",
       "    .dataframe tbody tr th:only-of-type {\n",
       "        vertical-align: middle;\n",
       "    }\n",
       "\n",
       "    .dataframe tbody tr th {\n",
       "        vertical-align: top;\n",
       "    }\n",
       "\n",
       "    .dataframe thead th {\n",
       "        text-align: right;\n",
       "    }\n",
       "</style>\n",
       "<table border=\"1\" class=\"dataframe\">\n",
       "  <thead>\n",
       "    <tr style=\"text-align: right;\">\n",
       "      <th></th>\n",
       "      <th>Unnamed: 0</th>\n",
       "      <th>GPA</th>\n",
       "      <th>HSGPA</th>\n",
       "      <th>SAT Score</th>\n",
       "      <th>Male</th>\n",
       "      <th>HU</th>\n",
       "      <th>SS</th>\n",
       "      <th>FirstGen</th>\n",
       "      <th>White</th>\n",
       "      <th>CollegeBound</th>\n",
       "    </tr>\n",
       "  </thead>\n",
       "  <tbody>\n",
       "    <tr>\n",
       "      <th>0</th>\n",
       "      <td>1</td>\n",
       "      <td>3.06</td>\n",
       "      <td>3.83</td>\n",
       "      <td>1450</td>\n",
       "      <td>1</td>\n",
       "      <td>3.0</td>\n",
       "      <td>9.0</td>\n",
       "      <td>1</td>\n",
       "      <td>1</td>\n",
       "      <td>1</td>\n",
       "    </tr>\n",
       "    <tr>\n",
       "      <th>1</th>\n",
       "      <td>2</td>\n",
       "      <td>4.15</td>\n",
       "      <td>4.00</td>\n",
       "      <td>1460</td>\n",
       "      <td>0</td>\n",
       "      <td>9.0</td>\n",
       "      <td>3.0</td>\n",
       "      <td>0</td>\n",
       "      <td>1</td>\n",
       "      <td>1</td>\n",
       "    </tr>\n",
       "    <tr>\n",
       "      <th>2</th>\n",
       "      <td>3</td>\n",
       "      <td>3.41</td>\n",
       "      <td>3.70</td>\n",
       "      <td>1210</td>\n",
       "      <td>0</td>\n",
       "      <td>16.0</td>\n",
       "      <td>13.0</td>\n",
       "      <td>0</td>\n",
       "      <td>0</td>\n",
       "      <td>1</td>\n",
       "    </tr>\n",
       "    <tr>\n",
       "      <th>3</th>\n",
       "      <td>4</td>\n",
       "      <td>3.21</td>\n",
       "      <td>3.51</td>\n",
       "      <td>1440</td>\n",
       "      <td>0</td>\n",
       "      <td>22.0</td>\n",
       "      <td>0.0</td>\n",
       "      <td>0</td>\n",
       "      <td>1</td>\n",
       "      <td>1</td>\n",
       "    </tr>\n",
       "    <tr>\n",
       "      <th>4</th>\n",
       "      <td>5</td>\n",
       "      <td>3.48</td>\n",
       "      <td>3.83</td>\n",
       "      <td>1220</td>\n",
       "      <td>0</td>\n",
       "      <td>30.5</td>\n",
       "      <td>1.5</td>\n",
       "      <td>0</td>\n",
       "      <td>1</td>\n",
       "      <td>1</td>\n",
       "    </tr>\n",
       "  </tbody>\n",
       "</table>\n",
       "</div>"
      ],
      "text/plain": [
       "   Unnamed: 0   GPA  HSGPA  SAT Score  Male    HU    SS  FirstGen  White  \\\n",
       "0           1  3.06   3.83       1450     1   3.0   9.0         1      1   \n",
       "1           2  4.15   4.00       1460     0   9.0   3.0         0      1   \n",
       "2           3  3.41   3.70       1210     0  16.0  13.0         0      0   \n",
       "3           4  3.21   3.51       1440     0  22.0   0.0         0      1   \n",
       "4           5  3.48   3.83       1220     0  30.5   1.5         0      1   \n",
       "\n",
       "   CollegeBound  \n",
       "0             1  \n",
       "1             1  \n",
       "2             1  \n",
       "3             1  \n",
       "4             1  "
      ]
     },
     "execution_count": 39,
     "metadata": {},
     "output_type": "execute_result"
    }
   ],
   "source": [
    "data = data.dropna()\n",
    "data.head()"
   ]
  },
  {
   "cell_type": "code",
   "execution_count": 40,
   "id": "5ae6afd4",
   "metadata": {},
   "outputs": [
    {
     "name": "stdout",
     "output_type": "stream",
     "text": [
      "                            OLS Regression Results                            \n",
      "==============================================================================\n",
      "Dep. Variable:                    GPA   R-squared:                       0.351\n",
      "Model:                            OLS   Adj. R-squared:                  0.323\n",
      "Method:                 Least Squares   F-statistic:                     12.54\n",
      "Date:                Sun, 27 Nov 2022   Prob (F-statistic):           7.37e-16\n",
      "Time:                        20:34:39   Log-Likelihood:                -95.487\n",
      "No. Observations:                 219   AIC:                             211.0\n",
      "Df Residuals:                     209   BIC:                             244.9\n",
      "Df Model:                           9                                         \n",
      "Covariance Type:            nonrobust                                         \n",
      "================================================================================\n",
      "                   coef    std err          t      P>|t|      [0.025      0.975]\n",
      "--------------------------------------------------------------------------------\n",
      "const            0.6096      0.370      1.649      0.101      -0.119       1.339\n",
      "Unnamed: 0      -0.0004      0.000     -0.926      0.356      -0.001       0.000\n",
      "HSGPA            0.4798      0.076      6.304      0.000       0.330       0.630\n",
      "SAT Score        0.0003      0.000      1.539      0.125   -9.64e-05       0.001\n",
      "Male             0.0438      0.055      0.789      0.431      -0.066       0.153\n",
      "HU               0.0161      0.004      4.041      0.000       0.008       0.024\n",
      "SS               0.0068      0.006      1.216      0.225      -0.004       0.018\n",
      "FirstGen        -0.0788      0.089     -0.888      0.375      -0.254       0.096\n",
      "White            0.2022      0.070      2.899      0.004       0.065       0.340\n",
      "CollegeBound     0.0189      0.100      0.189      0.850      -0.179       0.217\n",
      "==============================================================================\n",
      "Omnibus:                        4.642   Durbin-Watson:                   2.087\n",
      "Prob(Omnibus):                  0.098   Jarque-Bera (JB):                3.802\n",
      "Skew:                          -0.221   Prob(JB):                        0.149\n",
      "Kurtosis:                       2.531   Cond. No.                     1.81e+04\n",
      "==============================================================================\n",
      "\n",
      "Notes:\n",
      "[1] Standard Errors assume that the covariance matrix of the errors is correctly specified.\n",
      "[2] The condition number is large, 1.81e+04. This might indicate that there are\n",
      "strong multicollinearity or other numerical problems.\n"
     ]
    }
   ],
   "source": [
    "attr_names = [\"Unnamed: 0\", \"HSGPA\", \"SAT Score\", \"Male\" , \"HU\", \"SS\", \"FirstGen\", \"White\", \"CollegeBound\"]\n",
    "\n",
    "x_train = data[attr_names]\n",
    "y_train = data['GPA']\n",
    "\n",
    "\n",
    "model_log = sm.OLS(y_train, sm.add_constant(x_train))\n",
    "results = model_log.fit()\n",
    "print(results.summary())"
   ]
  },
  {
   "cell_type": "markdown",
   "id": "2ae4940c",
   "metadata": {},
   "source": [
    "## Results"
   ]
  },
  {
   "cell_type": "markdown",
   "id": "395e236f",
   "metadata": {},
   "source": [
    "PLACEHOLDER"
   ]
  },
  {
   "cell_type": "markdown",
   "id": "a0456eb1",
   "metadata": {},
   "source": [
    "## Conclusion"
   ]
  },
  {
   "cell_type": "markdown",
   "id": "dbff4f20",
   "metadata": {},
   "source": [
    "PLACEHOLDER"
   ]
  },
  {
   "cell_type": "markdown",
   "id": "6842adc3",
   "metadata": {},
   "source": [
    "## Refrences"
   ]
  },
  {
   "cell_type": "markdown",
   "id": "4e44fe89",
   "metadata": {},
   "source": [
    "PLACEHOLDER"
   ]
  }
 ],
 "metadata": {
  "kernelspec": {
   "display_name": "Python 3",
   "language": "python",
   "name": "python3"
  },
  "language_info": {
   "codemirror_mode": {
    "name": "ipython",
    "version": 3
   },
   "file_extension": ".py",
   "mimetype": "text/x-python",
   "name": "python",
   "nbconvert_exporter": "python",
   "pygments_lexer": "ipython3",
   "version": "3.8.8"
  }
 },
 "nbformat": 4,
 "nbformat_minor": 5
}
